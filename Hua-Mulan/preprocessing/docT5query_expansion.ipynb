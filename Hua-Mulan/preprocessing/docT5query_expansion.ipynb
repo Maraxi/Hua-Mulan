{
 "cells": [
  {
   "cell_type": "code",
   "execution_count": null,
   "metadata": {},
   "outputs": [],
   "source": [
    "###\n",
    "### This notebook was run in a googlecolab environment using GPU\n",
    "###\n",
    "\n",
    "!pip install sentencepiece\n",
    "!pip install transformers\n",
    "\n",
    "\n",
    "import pandas as pd\n",
    "import torch\n",
    "from transformers import T5Config, T5Tokenizer, T5ForConditionalGeneration\n",
    "import time"
   ]
  },
  {
   "cell_type": "code",
   "execution_count": null,
   "metadata": {},
   "outputs": [],
   "source": [
    "device = torch.device( 'cuda')\n",
    "tokenizer = T5Tokenizer.from_pretrained('t5-base')\n",
    "config = T5Config.from_pretrained('t5-base')"
   ]
  },
  {
   "cell_type": "code",
   "execution_count": null,
   "metadata": {},
   "outputs": [],
   "source": [
    "def predictqueryfromdoc(doc):\n",
    "    start = time.time()\n",
    "    input_ids = tokenizer.encode(doc + \"</s>\", return_tensors='pt').to(device)\n",
    "    \n",
    "    if input_ids.size()[1]>512:\n",
    "        input_ids = input_ids[:,:511]\n",
    "\n",
    "    outputs = model.generate(\n",
    "        input_ids=input_ids,\n",
    "        max_length=64,\n",
    "        do_sample=True,\n",
    "        top_k=3,\n",
    "        num_return_sequences=10)\n",
    "    t = [tokenizer.decode(i, skip_special_tokens=True) for i in outputs]\n",
    "    return t"
   ]
  },
  {
   "cell_type": "code",
   "execution_count": null,
   "metadata": {},
   "outputs": [],
   "source": [
    "args = pd.read_csv(\"args.tsv\", sep=\"\\t\")\n",
    "args[\"pred\"] = \"none\"\n",
    "args.reset_index(drop=True, inplace=True)"
   ]
  },
  {
   "cell_type": "code",
   "execution_count": null,
   "metadata": {},
   "outputs": [],
   "source": [
    "def predict(row):\n",
    "    return predictqueryfromdoc(row[\"premises\"])\n",
    "\n",
    "args[\"pred\"] = args.apply(predict, axis=1)\n",
    "\n",
    "args.to_csv(\"args_docT5query.csv\", sep=\";\", index=False)"
   ]
  },
  {
   "cell_type": "code",
   "execution_count": null,
   "metadata": {},
   "outputs": [],
   "source": [
    "args[\"pred\"] = [\" \".join(queries).replace(\"'\", \"\").replace('\"', '') for queries in args[\"pred\"]]\n",
    "args[\"args_t5expansion\"] =  args[\"premises\"] + \" \" + args[\"pred\"]\n",
    "args.to_csv(\"t5_expansion.tsv\", sep=\"\\t\", index=False)"
   ]
  }
 ],
 "metadata": {
  "kernelspec": {
   "display_name": "Python 3",
   "language": "python",
   "name": "python3"
  },
  "language_info": {
   "codemirror_mode": {
    "name": "ipython",
    "version": 3
   },
   "file_extension": ".py",
   "mimetype": "text/x-python",
   "name": "python",
   "nbconvert_exporter": "python",
   "pygments_lexer": "ipython3",
   "version": "3.7.6"
  }
 },
 "nbformat": 4,
 "nbformat_minor": 4
}
