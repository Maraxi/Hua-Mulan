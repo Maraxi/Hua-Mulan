{
 "cells": [
  {
   "cell_type": "code",
   "execution_count": 1,
   "metadata": {},
   "outputs": [
    {
     "name": "stderr",
     "output_type": "stream",
     "text": [
      "[nltk_data] Downloading package stopwords to /home/jovyan/nltk_data...\n",
      "[nltk_data]   Package stopwords is already up-to-date!\n",
      "[nltk_data] Downloading package punkt to /home/jovyan/nltk_data...\n",
      "[nltk_data]   Package punkt is already up-to-date!\n",
      "[nltk_data] Downloading package wordnet to /home/jovyan/nltk_data...\n",
      "[nltk_data]   Package wordnet is already up-to-date!\n"
     ]
    }
   ],
   "source": [
    "import nltk\n",
    "import pandas as pd\n",
    "nltk.download(\"stopwords\")\n",
    "nltk.download('punkt')\n",
    "import numpy as np\n",
    "\n",
    "from nltk.tokenize import word_tokenize\n",
    "from nltk.corpus import stopwords\n",
    "from sklearn.feature_extraction.text import CountVectorizer\n",
    "from nltk.stem.porter import PorterStemmer\n",
    "from nltk.tokenize import RegexpTokenizer\n",
    "nltk.download('wordnet') \n",
    "from nltk.stem.wordnet import WordNetLemmatizer\n",
    "from nltk.corpus import wordnet\n",
    "from sklearn.feature_extraction.text import TfidfTransformer\n",
    "\n",
    "\n",
    "import string\n",
    "import re\n",
    "from google.colab import drive\n",
    "drive.mount('/content/drive/')"
   ]
  },
  {
   "cell_type": "code",
   "execution_count": 2,
   "metadata": {},
   "outputs": [],
   "source": [
    "def clean(arg):\n",
    "    arg=arg.lower()\n",
    "    arg=arg.replace(\"_\", \" \")\n",
    "    arg=re.sub(\"\",\"\",arg)\n",
    "    # no sonderzeichen \n",
    "    arg=re.sub(\"(\\\\d|\\\\W)+\",\" \",arg)\n",
    "    return arg\n",
    "\n",
    "# order by \n",
    "def sort_tfidf(mat):\n",
    "    tuples = zip(mat.col, mat.data)\n",
    "    return sorted(tuples, key=lambda x: (x[1], x[0]), reverse=True)\n",
    "\n",
    "def topn(feature_names, sorted_items, topn=10):\n",
    "    \"\"\"get the feature names and tf-idf score of top n items\"\"\"\n",
    "    \n",
    "    #use only topn items from vector\n",
    "    sorted_items = sorted_items[:topn]\n",
    "\n",
    "    score_vals = []\n",
    "    feature_vals = []\n",
    "    \n",
    "    # word index and corresponding tf-idf score\n",
    "    for idx, score in sorted_items:\n",
    "        \n",
    "        #keep track of feature name and its corresponding score\n",
    "        score_vals.append(round(score, 3))\n",
    "        feature_vals.append(feature_names[idx])\n",
    "\n",
    "    #create a tuples of feature,score\n",
    "    #results = zip(feature_vals,score_vals)\n",
    "    results= {}\n",
    "    for idx in range(len(feature_vals)):\n",
    "        results[feature_vals[idx]]=score_vals[idx]\n",
    "    \n",
    "    return results"
   ]
  },
  {
   "cell_type": "code",
   "execution_count": null,
   "metadata": {},
   "outputs": [],
   "source": [
    "df = pd.read_csv(\"/content/drive/MyDrive/cloudcomputing/cleaned_data_with_keywords.csv\", sep=\"\\t\").drop(columns=[\"keywords\"])\n",
    "df[\"arg\"] = df[\"premises\"] + \" \" + df[\"conclusion\"]"
   ]
  },
  {
   "cell_type": "code",
   "execution_count": null,
   "metadata": {},
   "outputs": [],
   "source": [
    "%%time\n",
    "arg = df[\"arg\"].apply(lambda arg: clean(str(arg)))"
   ]
  },
  {
   "cell_type": "code",
   "execution_count": null,
   "metadata": {},
   "outputs": [],
   "source": [
    "%%time\n",
    "cv = CountVectorizer(strip_accents = 'unicode', # works \n",
    "                                stop_words = stwords, # works\n",
    "                                lowercase = True, # works\n",
    "                                max_df = 0.85) # works\n",
    "word_count_vector=cv.fit_transform(arg)"
   ]
  },
  {
   "cell_type": "code",
   "execution_count": null,
   "metadata": {},
   "outputs": [],
   "source": [
    "%%time\n",
    "tfidf_transformer=TfidfTransformer(smooth_idf=True,use_idf=True)\n",
    "tfidf_transformer.fit(word_count_vector)"
   ]
  },
  {
   "cell_type": "code",
   "execution_count": null,
   "metadata": {},
   "outputs": [],
   "source": [
    "%%time\n",
    "feature_names=cv.get_feature_names()\n",
    "kw = []\n",
    "for doc in args:\n",
    "    tf_idf_vector=tfidf_transformer.transform(cv.transform([doc]))\n",
    "    sorted_items=sort_tfidf(tf_idf_vector.tocoo())\n",
    "    keywords=topn(feature_names,sorted_items,10)\n",
    "    kw.append(list(keywords.keys()))\n",
    "\n"
   ]
  },
  {
   "cell_type": "code",
   "execution_count": null,
   "metadata": {},
   "outputs": [],
   "source": [
    "count = [len(k) for k in kw]\n",
    "df[\"keywords\"] = kw\n",
    "df[\"key_count\"] = count"
   ]
  },
  {
   "cell_type": "code",
   "execution_count": null,
   "metadata": {},
   "outputs": [],
   "source": [
    "%%time\n",
    "synonyms = []\n",
    "for keywords in kw:   \n",
    "  synonyms.append([list(set([i.lemmas()[0].name() for i in wordnet.synsets(word)])) for word in keywords])\n",
    "\n",
    "syn = []\n",
    "for s in synonyms:\n",
    "  syn.append([item for sublist in s for item in sublist])"
   ]
  },
  {
   "cell_type": "code",
   "execution_count": null,
   "metadata": {},
   "outputs": [],
   "source": [
    "count = [len(set(s)) for s in syn]\n",
    "syn = [\" \".join(set(s)) for s in syn]\n",
    "df[\"synonyms\"] = syn\n",
    "df[\"syn_count\"] = count\n",
    "df.to_csv(\"/content/drive/MyDrive/cloudcomputing/cleaned_data_with_key_syn.csv\", \"\\t\", index=False)\n"
   ]
  },
  {
   "cell_type": "code",
   "execution_count": null,
   "metadata": {},
   "outputs": [],
   "source": [
    "df[\"premises\"] = df[\"premises\"] + \" \" + df[\"synonyms\"]\n",
    "df = df[[\"premises\", \"id\", \"conclusion\", \"context.sourceUrl\", \"stance\"]]\n",
    "df.to_csv(\"/content/drive/MyDrive/cloudcomputing/data_naiveexpansion.csv\", \"\\t\", index=False)"
   ]
  }
 ],
 "metadata": {
  "kernelspec": {
   "display_name": "Python 3",
   "language": "python",
   "name": "python3"
  },
  "language_info": {
   "codemirror_mode": {
    "name": "ipython",
    "version": 3
   },
   "file_extension": ".py",
   "mimetype": "text/x-python",
   "name": "python",
   "nbconvert_exporter": "python",
   "pygments_lexer": "ipython3",
   "version": "3.7.6"
  }
 },
 "nbformat": 4,
 "nbformat_minor": 4
}
