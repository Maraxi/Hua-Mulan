{
 "cells": [
  {
   "cell_type": "code",
   "execution_count": 1,
   "metadata": {},
   "outputs": [],
   "source": [
    "import pandas as pd"
   ]
  },
  {
   "cell_type": "code",
   "execution_count": 5,
   "metadata": {},
   "outputs": [],
   "source": [
    "dat = pd.read_json(\"data/debatepedia.json\")"
   ]
  },
  {
   "cell_type": "code",
   "execution_count": 6,
   "metadata": {},
   "outputs": [
    {
     "data": {
      "text/html": [
       "<div>\n",
       "<style scoped>\n",
       "    .dataframe tbody tr th:only-of-type {\n",
       "        vertical-align: middle;\n",
       "    }\n",
       "\n",
       "    .dataframe tbody tr th {\n",
       "        vertical-align: top;\n",
       "    }\n",
       "\n",
       "    .dataframe thead th {\n",
       "        text-align: right;\n",
       "    }\n",
       "</style>\n",
       "<table border=\"1\" class=\"dataframe\">\n",
       "  <thead>\n",
       "    <tr style=\"text-align: right;\">\n",
       "      <th></th>\n",
       "      <th>arguments</th>\n",
       "    </tr>\n",
       "  </thead>\n",
       "  <tbody>\n",
       "    <tr>\n",
       "      <th>0</th>\n",
       "      <td>{'id': 'S96f2396e-Aaf079b43', 'conclusion': 'M...</td>\n",
       "    </tr>\n",
       "    <tr>\n",
       "      <th>1</th>\n",
       "      <td>{'id': 'S96f2396e-Afcc9ac26', 'conclusion': 'M...</td>\n",
       "    </tr>\n",
       "    <tr>\n",
       "      <th>2</th>\n",
       "      <td>{'id': 'S96f2396e-A2f68e3d2', 'conclusion': 'M...</td>\n",
       "    </tr>\n",
       "    <tr>\n",
       "      <th>3</th>\n",
       "      <td>{'id': 'S96f2396e-A603f7bff', 'conclusion': 'M...</td>\n",
       "    </tr>\n",
       "    <tr>\n",
       "      <th>4</th>\n",
       "      <td>{'id': 'S96f2396e-Acb88a01b', 'conclusion': 'U...</td>\n",
       "    </tr>\n",
       "    <tr>\n",
       "      <th>...</th>\n",
       "      <td>...</td>\n",
       "    </tr>\n",
       "    <tr>\n",
       "      <th>21192</th>\n",
       "      <td>{'id': 'S148bb110-A883affb1', 'conclusion': 'T...</td>\n",
       "    </tr>\n",
       "    <tr>\n",
       "      <th>21193</th>\n",
       "      <td>{'id': 'S148bb110-Afb6aceb5', 'conclusion': 'T...</td>\n",
       "    </tr>\n",
       "    <tr>\n",
       "      <th>21194</th>\n",
       "      <td>{'id': 'S148bb110-Ad24d80f6', 'conclusion': 'A...</td>\n",
       "    </tr>\n",
       "    <tr>\n",
       "      <th>21195</th>\n",
       "      <td>{'id': 'S148bb110-A63b9848c', 'conclusion': 'V...</td>\n",
       "    </tr>\n",
       "    <tr>\n",
       "      <th>21196</th>\n",
       "      <td>{'id': 'S148bb110-A119d66b0', 'conclusion': 'E...</td>\n",
       "    </tr>\n",
       "  </tbody>\n",
       "</table>\n",
       "<p>21197 rows × 1 columns</p>\n",
       "</div>"
      ],
      "text/plain": [
       "                                               arguments\n",
       "0      {'id': 'S96f2396e-Aaf079b43', 'conclusion': 'M...\n",
       "1      {'id': 'S96f2396e-Afcc9ac26', 'conclusion': 'M...\n",
       "2      {'id': 'S96f2396e-A2f68e3d2', 'conclusion': 'M...\n",
       "3      {'id': 'S96f2396e-A603f7bff', 'conclusion': 'M...\n",
       "4      {'id': 'S96f2396e-Acb88a01b', 'conclusion': 'U...\n",
       "...                                                  ...\n",
       "21192  {'id': 'S148bb110-A883affb1', 'conclusion': 'T...\n",
       "21193  {'id': 'S148bb110-Afb6aceb5', 'conclusion': 'T...\n",
       "21194  {'id': 'S148bb110-Ad24d80f6', 'conclusion': 'A...\n",
       "21195  {'id': 'S148bb110-A63b9848c', 'conclusion': 'V...\n",
       "21196  {'id': 'S148bb110-A119d66b0', 'conclusion': 'E...\n",
       "\n",
       "[21197 rows x 1 columns]"
      ]
     },
     "execution_count": 6,
     "metadata": {},
     "output_type": "execute_result"
    }
   ],
   "source": [
    "dat"
   ]
  }
 ],
 "metadata": {
  "kernelspec": {
   "display_name": "Python 3",
   "language": "python",
   "name": "python3"
  },
  "language_info": {
   "codemirror_mode": {
    "name": "ipython",
    "version": 3
   },
   "file_extension": ".py",
   "mimetype": "text/x-python",
   "name": "python",
   "nbconvert_exporter": "python",
   "pygments_lexer": "ipython3",
   "version": "3.7.6"
  }
 },
 "nbformat": 4,
 "nbformat_minor": 4
}
